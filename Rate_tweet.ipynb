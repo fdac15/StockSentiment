{
 "cells": [
  {
   "cell_type": "code",
   "execution_count": 0,
   "metadata": {
    "collapsed": false
   },
   "outputs": [
    {
     "name": "stderr",
     "output_type": "stream",
     "text": [
      "ERROR: Internal Python error in the inspect module.\n",
      "Below is the traceback from this internal error.\n",
      "\n",
      "\n",
      "Unfortunately, your original traceback can not be constructed.\n",
      "\n",
      "ERROR: "
     ]
    },
    {
     "name": "stdout",
     "output_type": "stream",
     "text": [
      "Traceback (most recent call last):\n",
      "  File \"/usr/local/lib/python3.4/dist-packages/IPython/core/interactiveshell.py\", line 3035, in run_code\n",
      "    exec(code_obj, self.user_global_ns, self.user_ns)\n",
      "  File \"<ipython-input-1-c30e40c03438>\", line 26, in <module>\n",
      "    nltk.sentiment.util.demo_liu_hu_lexicon(data[key]['tweets'][i], plot=False)\n",
      "  File \"/usr/local/lib/python3.4/dist-packages/nltk/sentiment/util.py\", line 628, in demo_liu_hu_lexicon\n",
      "    if word in opinion_lexicon.positive():\n",
      "  File \"/usr/local/lib/python3.4/dist-packages/nltk/util.py\", line 689, in __contains__\n",
      "    return bool(self.count(value))\n",
      "  File \"/usr/local/lib/python3.4/dist-packages/nltk/util.py\", line 675, in count\n",
      "    return sum(1 for elt in self if elt==value)\n",
      "  File \"/usr/local/lib/python3.4/dist-packages/nltk/util.py\", line 675, in <genexpr>\n",
      "    return sum(1 for elt in self if elt==value)\n",
      "  File \"/usr/local/lib/python3.4/dist-packages/nltk/corpus/reader/util.py\", line 291, in iterate_from\n",
      "    tokens = self.read_block(self._stream)\n",
      "  File \"/usr/local/lib/python3.4/dist-packages/nltk/corpus/reader/opinion_lexicon.py\", line 111, in _read_word_block\n",
      "    line = stream.readline()\n",
      "  File \"/usr/local/lib/python3.4/dist-packages/nltk/data.py\", line 1124, in readline\n",
      "    new_chars = self._read(readsize)\n",
      "  File \"/usr/local/lib/python3.4/dist-packages/nltk/data.py\", line 1356, in _read\n",
      "    chars, bytes_decoded = self._incr_decode(bytes)\n",
      "  File \"/usr/local/lib/python3.4/dist-packages/nltk/data.py\", line 1387, in _incr_decode\n",
      "    return self.decode(bytes, 'strict')\n",
      "  File \"/usr/lib/python3.4/encodings/iso8859_2.py\", line 15, in decode\n",
      "    return codecs.charmap_decode(input,errors,decoding_table)\n",
      "KeyboardInterrupt\n",
      "\n",
      "During handling of the above exception, another exception occurred:\n",
      "\n",
      "Traceback (most recent call last):\n",
      "  File \"/usr/local/lib/python3.4/dist-packages/IPython/core/interactiveshell.py\", line 1848, in showtraceback\n",
      "    stb = value._render_traceback_()\n",
      "AttributeError: 'KeyboardInterrupt' object has no attribute '_render_traceback_'\n",
      "\n",
      "During handling of the above exception, another exception occurred:\n",
      "\n",
      "Traceback (most recent call last):\n",
      "  File \"/usr/local/lib/python3.4/dist-packages/IPython/core/ultratb.py\", line 970, in get_records\n",
      "    return _fixed_getinnerframes(etb, number_of_lines_of_context, tb_offset)\n",
      "  File \"/usr/local/lib/python3.4/dist-packages/IPython/core/ultratb.py\", line 233, in wrapped\n",
      "    return f(*args, **kwargs)\n",
      "  File \"/usr/local/lib/python3.4/dist-packages/IPython/core/ultratb.py\", line 267, in _fixed_getinnerframes\n",
      "    records = fix_frame_records_filenames(inspect.getinnerframes(etb, context))\n",
      "  File \"/usr/lib/python3.4/inspect.py\", line 1338, in getinnerframes\n",
      "    framelist.append((tb.tb_frame,) + getframeinfo(tb, context))\n",
      "  File \"/usr/lib/python3.4/inspect.py\", line 1298, in getframeinfo\n",
      "    filename = getsourcefile(frame) or getfile(frame)\n",
      "  File \"/usr/lib/python3.4/inspect.py\", line 583, in getsourcefile\n",
      "    if getattr(getmodule(object, filename), '__loader__', None) is not None:\n",
      "  File \"/usr/lib/python3.4/inspect.py\", line 619, in getmodule\n",
      "    for modname, module in list(sys.modules.items()):\n",
      "KeyboardInterrupt\n",
      "Traceback (most recent call last):\n"
     ]
    },
    {
     "name": "stderr",
     "output_type": "stream",
     "text": [
      "Internal Python error in the inspect module.\n",
      "Below is the traceback from this internal error.\n",
      "\n",
      "\n",
      "Unfortunately, your original traceback can not be constructed.\n",
      "\n"
     ]
    },
    {
     "ename": "TypeError",
     "evalue": "'NoneType' object is not iterable",
     "output_type": "error",
     "traceback": [
      "Traceback (most recent call last):\n",
      "  File \"/usr/local/lib/python3.4/dist-packages/IPython/core/interactiveshell.py\", line 3035, in run_code\n    exec(code_obj, self.user_global_ns, self.user_ns)\n",
      "  File \"<ipython-input-1-c30e40c03438>\", line 26, in <module>\n    nltk.sentiment.util.demo_liu_hu_lexicon(data[key]['tweets'][i], plot=False)\n",
      "  File \"/usr/local/lib/python3.4/dist-packages/nltk/sentiment/util.py\", line 628, in demo_liu_hu_lexicon\n    if word in opinion_lexicon.positive():\n",
      "  File \"/usr/local/lib/python3.4/dist-packages/nltk/util.py\", line 689, in __contains__\n    return bool(self.count(value))\n",
      "  File \"/usr/local/lib/python3.4/dist-packages/nltk/util.py\", line 675, in count\n    return sum(1 for elt in self if elt==value)\n",
      "  File \"/usr/local/lib/python3.4/dist-packages/nltk/util.py\", line 675, in <genexpr>\n    return sum(1 for elt in self if elt==value)\n",
      "  File \"/usr/local/lib/python3.4/dist-packages/nltk/corpus/reader/util.py\", line 291, in iterate_from\n    tokens = self.read_block(self._stream)\n",
      "  File \"/usr/local/lib/python3.4/dist-packages/nltk/corpus/reader/opinion_lexicon.py\", line 111, in _read_word_block\n    line = stream.readline()\n",
      "  File \"/usr/local/lib/python3.4/dist-packages/nltk/data.py\", line 1124, in readline\n    new_chars = self._read(readsize)\n",
      "  File \"/usr/local/lib/python3.4/dist-packages/nltk/data.py\", line 1356, in _read\n    chars, bytes_decoded = self._incr_decode(bytes)\n",
      "  File \"/usr/local/lib/python3.4/dist-packages/nltk/data.py\", line 1387, in _incr_decode\n    return self.decode(bytes, 'strict')\n",
      "  File \"/usr/lib/python3.4/encodings/iso8859_2.py\", line 15, in decode\n    return codecs.charmap_decode(input,errors,decoding_table)\n",
      "KeyboardInterrupt\n",
      "\nDuring handling of the above exception, another exception occurred:\n\n",
      "Traceback (most recent call last):\n",
      "  File \"/usr/local/lib/python3.4/dist-packages/IPython/core/interactiveshell.py\", line 1848, in showtraceback\n    stb = value._render_traceback_()\n",
      "AttributeError: 'KeyboardInterrupt' object has no attribute '_render_traceback_'\n",
      "\nDuring handling of the above exception, another exception occurred:\n\n",
      "Traceback (most recent call last):\n",
      "  File \"/usr/local/lib/python3.4/dist-packages/IPython/core/interactiveshell.py\", line 2975, in run_ast_nodes\n    if self.run_code(code, result):\n",
      "  File \"/usr/local/lib/python3.4/dist-packages/IPython/core/interactiveshell.py\", line 3052, in run_code\n    self.showtraceback()\n",
      "  File \"/usr/local/lib/python3.4/dist-packages/IPython/core/interactiveshell.py\", line 1851, in showtraceback\n    value, tb, tb_offset=tb_offset)\n",
      "  File \"/usr/local/lib/python3.4/dist-packages/IPython/core/ultratb.py\", line 1240, in structured_traceback\n    self, etype, value, tb, tb_offset, number_of_lines_of_context)\n",
      "  File \"/usr/local/lib/python3.4/dist-packages/IPython/core/ultratb.py\", line 1148, in structured_traceback\n    self, etype, value, tb, tb_offset, number_of_lines_of_context\n",
      "  File \"/usr/local/lib/python3.4/dist-packages/IPython/core/ultratb.py\", line 1000, in structured_traceback\n    tb_offset)\n",
      "  File \"/usr/local/lib/python3.4/dist-packages/IPython/core/ultratb.py\", line 951, in format_exception_as_a_whole\n    frames = self.format_records(records)\n",
      "  File \"/usr/local/lib/python3.4/dist-packages/IPython/core/ultratb.py\", line 724, in format_records\n    for frame, file, lnum, func, lines, index in records:\n",
      "TypeError: 'NoneType' object is not iterable\n",
      "\nDuring handling of the above exception, another exception occurred:\n\n",
      "Traceback (most recent call last):\n",
      "  File \"/usr/local/lib/python3.4/dist-packages/IPython/core/interactiveshell.py\", line 1848, in showtraceback\n    stb = value._render_traceback_()\n",
      "AttributeError: 'TypeError' object has no attribute '_render_traceback_'\n",
      "\nDuring handling of the above exception, another exception occurred:\n\n",
      "Traceback (most recent call last):\n",
      "  File \"/usr/local/lib/python3.4/dist-packages/IPython/kernel/zmq/ipkernel.py\", line 181, in do_execute\n    shell.run_cell(code, store_history=store_history, silent=silent)\n",
      "  File \"/usr/local/lib/python3.4/dist-packages/IPython/core/interactiveshell.py\", line 2871, in run_cell\n    interactivity=interactivity, compiler=compiler, result=result)\n",
      "  File \"/usr/local/lib/python3.4/dist-packages/IPython/core/interactiveshell.py\", line 3000, in run_ast_nodes\n    self.showtraceback()\n",
      "  File \"/usr/local/lib/python3.4/dist-packages/IPython/core/interactiveshell.py\", line 1851, in showtraceback\n    value, tb, tb_offset=tb_offset)\n",
      "  File \"/usr/local/lib/python3.4/dist-packages/IPython/core/ultratb.py\", line 1240, in structured_traceback\n    self, etype, value, tb, tb_offset, number_of_lines_of_context)\n",
      "  File \"/usr/local/lib/python3.4/dist-packages/IPython/core/ultratb.py\", line 1148, in structured_traceback\n    self, etype, value, tb, tb_offset, number_of_lines_of_context\n",
      "  File \"/usr/local/lib/python3.4/dist-packages/IPython/core/ultratb.py\", line 1018, in structured_traceback\n    chained_exceptions_tb_offset)\n",
      "  File \"/usr/local/lib/python3.4/dist-packages/IPython/core/ultratb.py\", line 951, in format_exception_as_a_whole\n    frames = self.format_records(records)\n",
      "  File \"/usr/local/lib/python3.4/dist-packages/IPython/core/ultratb.py\", line 724, in format_records\n    for frame, file, lnum, func, lines, index in records:\n",
      "TypeError: 'NoneType' object is not iterable\n"
     ]
    }
   ],
   "source": [
    "import json\n",
    "from pprint import pprint\n",
    "import pandas as pd\n",
    "import nltk.sentiment\n",
    "from io import StringIO\n",
    "import sys\n",
    "\n",
    "symbols = pd.read_csv('companylist.csv',usecols=['Symbol'])\n",
    "symbols = symbols['Symbol'].tolist()\n",
    "\n",
    "all_tweets = dict()\n",
    "for i in range(0, len(symbols)):\n",
    "    all_tweets[symbols[i]] = dict()\n",
    "    all_tweets[symbols[i]]['sentiment'] = list()\n",
    "    all_tweets[symbols[i]]['created_at'] = list()\n",
    "\n",
    "with open('all_tweets.json') as data_file:    \n",
    "    data = json.load(data_file)\n",
    "\n",
    "old_stdout = sys.stdout\n",
    "\n",
    "for key in data.keys():\n",
    "    #if key == \"BA\":\n",
    "    for i in range(0, len(data[key]['tweets'])):\n",
    "        sys.stdout = mystdout = StringIO()\n",
    "        nltk.sentiment.util.demo_liu_hu_lexicon(data[key]['tweets'][i], plot=False)\n",
    "        all_tweets[key]['sentiment'].append(str(mystdout.getvalue()).strip())\n",
    "        all_tweets[key]['created_at'].append(data[key]['created_at'][i][:10])\n",
    "        mystdout.close()\n",
    "\n",
    "sys.stdout = old_stdout\n",
    "\n",
    "#pprint(all_tweets)\n",
    "\n",
    "with open('all_tweets_out.json', 'w') as outfile:\n",
    "    json.dump(all_tweets, outfile)\n",
    "    \n",
    "#with open('test_all_tweets_out.json') as data1_file:    \n",
    "#    data1 = json.load(data1_file)\n",
    "    \n",
    "#pprint(data1)"
   ]
  },
  {
   "cell_type": "code",
   "execution_count": null,
   "metadata": {
    "collapsed": false
   },
   "outputs": [],
   "source": [
    "\n"
   ]
  },
  {
   "cell_type": "code",
   "execution_count": null,
   "metadata": {
    "collapsed": true
   },
   "outputs": [],
   "source": []
  }
 ],
 "metadata": {
  "kernelspec": {
   "display_name": "Python 3",
   "language": "python",
   "name": "python3"
  },
  "language_info": {
   "codemirror_mode": {
    "name": "ipython",
    "version": 3
   },
   "file_extension": ".py",
   "mimetype": "text/x-python",
   "name": "python",
   "nbconvert_exporter": "python",
   "pygments_lexer": "ipython3",
   "version": "3.4.3"
  }
 },
 "nbformat": 4,
 "nbformat_minor": 0
}
