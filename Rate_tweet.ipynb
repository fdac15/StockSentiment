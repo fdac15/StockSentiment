{
 "cells": [
  {
   "cell_type": "code",
   "execution_count": null,
   "metadata": {
    "collapsed": false
   },
   "outputs": [],
   "source": [
    "import json\n",
    "from pprint import pprint\n",
    "import pandas as pd\n",
    "import nltk.sentiment\n",
    "from io import StringIO\n",
    "import sys\n",
    "\n",
    "symbols = pd.read_csv('companylist.csv',usecols=['Symbol'])\n",
    "symbols = symbols['Symbol'].tolist()\n",
    "\n",
    "all_tweets = dict()\n",
    "for i in range(0, len(symbols)):\n",
    "    all_tweets[symbols[i]] = dict()\n",
    "    all_tweets[symbols[i]]['sentiment'] = list()\n",
    "    all_tweets[symbols[i]]['created_at'] = list()\n",
    "\n",
    "with open('all_tweets.json') as data_file:    \n",
    "    data = json.load(data_file)\n",
    "\n",
    "old_stdout = sys.stdout\n",
    "\n",
    "for key in data.keys():\n",
    "    #if key == \"BA\":\n",
    "    for i in range(0, len(data[key]['tweets'])):\n",
    "        sys.stdout = mystdout = StringIO()\n",
    "        nltk.sentiment.util.demo_liu_hu_lexicon(data[key]['tweets'][i], plot=False)\n",
    "        all_tweets[key]['sentiment'].append(str(mystdout.getvalue()).strip())\n",
    "        all_tweets[key]['created_at'].append(data[key]['created_at'][i][:10])\n",
    "        mystdout.close()\n",
    "\n",
    "sys.stdout = old_stdout\n",
    "\n",
    "#pprint(all_tweets)\n",
    "\n",
    "with open('all_tweets_out.json', 'w') as outfile:\n",
    "    json.dump(all_tweets, outfile)\n",
    "    \n",
    "#with open('test_all_tweets_out.json') as data1_file:    \n",
    "#    data1 = json.load(data1_file)\n",
    "    \n",
    "#pprint(data1)"
   ]
  },
  {
   "cell_type": "code",
   "execution_count": null,
   "metadata": {
    "collapsed": false
   },
   "outputs": [],
   "source": [
    "\n"
   ]
  },
  {
   "cell_type": "code",
   "execution_count": null,
   "metadata": {
    "collapsed": true
   },
   "outputs": [],
   "source": []
  }
 ],
 "metadata": {
  "kernelspec": {
   "display_name": "Python 3",
   "language": "python",
   "name": "python3"
  }
 },
 "nbformat": 4,
 "nbformat_minor": 0
}
