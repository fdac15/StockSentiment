{
 "cells": [
  {
   "cell_type": "code",
   "execution_count": 8,
   "metadata": {
    "collapsed": false
   },
   "outputs": [],
   "source": [
    "import json\n",
    "from pprint import pprint\n",
    "import pandas as pd\n",
    "\n",
    "\n",
    "symbols = pd.read_csv('companylist.csv',usecols=['Symbol'])\n",
    "symbols = symbols['Symbol'].tolist()\n",
    "\n",
    "\n",
    "all_tweets = dict()\n",
    "for i in range(0, len(symbols)):\n",
    "    all_tweets[symbols[i]] = dict()\n",
    "\n",
    "with open('test_all_tweets_out.json') as data_file:    \n",
    "    data = json.load(data_file)\n",
    "\n",
    "for key in data.keys():\n",
    "    #if key == \"BA\":\n",
    "    for i in range(0, len(data[key]['created_at'])):\n",
    "        date = str(data[key]['created_at'][i])\n",
    "        sentiment = str(data[key]['sentiment'][i])\n",
    "        if date not in all_tweets[key]:\n",
    "            all_tweets[key][date] = dict()   \n",
    "            all_tweets[key][date]['positive'] = 0\n",
    "            all_tweets[key][date]['negative'] = 0\n",
    "            all_tweets[key][date]['neutral'] = 0\n",
    "\n",
    "        if sentiment == \"Positive\":\n",
    "            all_tweets[key][date]['positive'] += 1\n",
    "        elif sentiment == \"Negative\":\n",
    "            all_tweets[key][date]['negative'] += 1\n",
    "        elif sentiment == \"Neutral\":\n",
    "            all_tweets[key][date]['neutral'] += 1\n",
    "\n",
    "\n",
    "#pprint(all_tweets)\n",
    "with open('test_all_tweets_out_condensed.json', 'w') as outfile:\n",
    "    json.dump(all_tweets, outfile)"
   ]
  },
  {
   "cell_type": "code",
   "execution_count": null,
   "metadata": {
    "collapsed": false
   },
   "outputs": [],
   "source": []
  },
  {
   "cell_type": "code",
   "execution_count": null,
   "metadata": {
    "collapsed": true
   },
   "outputs": [],
   "source": []
  }
 ],
 "metadata": {
  "kernelspec": {
   "display_name": "Python 3",
   "language": "python",
   "name": "python3"
  },
  "language_info": {
   "codemirror_mode": {
    "name": "ipython",
    "version": 3
   },
   "file_extension": ".py",
   "mimetype": "text/x-python",
   "name": "python",
   "nbconvert_exporter": "python",
   "pygments_lexer": "ipython3",
   "version": "3.4.3"
  }
 },
 "nbformat": 4,
 "nbformat_minor": 0
}
